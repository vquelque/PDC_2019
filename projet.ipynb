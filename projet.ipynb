{
 "cells": [
  {
   "cell_type": "code",
   "execution_count": 6,
   "metadata": {},
   "outputs": [],
   "source": [
    "import numpy as np"
   ]
  },
  {
   "cell_type": "code",
   "execution_count": 7,
   "metadata": {},
   "outputs": [],
   "source": [
    "f_carrier = 5000 #Frequency of the carrier signal\n",
    "t_carrier = 1/F_carrier #Time of the carrier signal\n",
    "sampling_freq = 22050 #sampling freq. in hz\n",
    "time_per_sample = 1/sampling_freq\n",
    "sample_per_symbol = sampling_freq / f_carrier\n",
    "data_size = 160 * 256\n",
    "n_sample = data_size * sample_per_symbol"
   ]
  },
  {
   "cell_type": "code",
   "execution_count": 8,
   "metadata": {},
   "outputs": [],
   "source": [
    "def raised_cosine(Tc,t,beta=0.5) :\n",
    "    mul_factor = (4*beta)/(np.pi * np.sqrt(Tc))\n",
    "    numerator = np.cos((1 + beta) * np.pi * (t/Tc)) + (((1-beta)*np.pi)/4*beta) * np.sinc((1 - beta)*(t/Tc))\n",
    "    denominator = 1 - (2*beta*(t/Tc)) ** 2\n",
    "    return mul_factor * numerator / denominator"
   ]
  },
  {
   "cell_type": "code",
   "execution_count": 9,
   "metadata": {},
   "outputs": [],
   "source": [
    "#carier generation\n",
    "t = np.arange(0,Sample_per_symbol * time_per_sample, step=time_per_sample) \n",
    "pulse = raised_cosine(T_carrier,t)"
   ]
  },
  {
   "cell_type": "code",
   "execution_count": 10,
   "metadata": {},
   "outputs": [
    {
     "name": "stdout",
     "output_type": "stream",
     "text": [
      "[ 53.85465057  31.96647063 -20.19726626 -70.12476185 -73.09424729]\n"
     ]
    }
   ],
   "source": [
    "print(pulse)"
   ]
  },
  {
   "cell_type": "code",
   "execution_count": null,
   "metadata": {},
   "outputs": [],
   "source": []
  }
 ],
 "metadata": {
  "kernelspec": {
   "display_name": "Python 3",
   "language": "python",
   "name": "python3"
  },
  "language_info": {
   "codemirror_mode": {
    "name": "ipython",
    "version": 3
   },
   "file_extension": ".py",
   "mimetype": "text/x-python",
   "name": "python",
   "nbconvert_exporter": "python",
   "pygments_lexer": "ipython3",
   "version": "3.7.1"
  }
 },
 "nbformat": 4,
 "nbformat_minor": 2
}
