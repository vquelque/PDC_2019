{
 "cells": [
  {
   "cell_type": "code",
   "execution_count": 1,
   "metadata": {},
   "outputs": [],
   "source": [
    "import numpy as np\n",
    "import matplotlib.pyplot as plt\n",
    "import scipy.signal as sp\n",
    "import scipy\n",
    "import math\n",
    "import bitarray\n",
    "import random\n",
    "%matplotlib inline\n",
    "plt.rcParams[\"figure.figsize\"] = (14,4)"
   ]
  },
  {
   "cell_type": "code",
   "execution_count": 2,
   "metadata": {},
   "outputs": [
    {
     "name": "stdout",
     "output_type": "stream",
     "text": [
      "Loul je comprends plus rien mais j'espère que ça marche pour de bon !!!! Même avec plus de caractères.... Ça a l air de fonctionner ! J espere que c est pas une fausse joie.. Ouah c'est un truc de ouff sa mere ca marche !\n"
     ]
    }
   ],
   "source": [
    "#message to transmit\n",
    "ba = bitarray.bitarray()\n",
    "text = \"Loul je comprends plus rien mais j'espère que ça marche pour de bon !!!! Même avec plus de caractères.... Ça a l air de fonctionner ! J espere que c est pas une fausse joie.. Ouah c'est un truc de ouff sa mere ca marche !\"\n",
    "ba.frombytes(text.encode())\n",
    "data = np.array(ba.tolist()).astype(int)\n",
    "print(text)"
   ]
  },
  {
   "cell_type": "markdown",
   "metadata": {},
   "source": [
    "# Encoder"
   ]
  },
  {
   "cell_type": "code",
   "execution_count": 3,
   "metadata": {},
   "outputs": [
    {
     "name": "stdout",
     "output_type": "stream",
     "text": [
      "2.9024943310657596\n",
      "50\n"
     ]
    }
   ],
   "source": [
    "Fs = 22050 #sampling freq. in hz\n",
    "Fc = 441 #frequency of carrier signal\n",
    "baud_rate = Fc #need to be less than Fc\n",
    "modulation_freq_1 = 3000 #modulation frequency in hertz of first sine\n",
    "modulation_freq_2 = 7000 #modulation frequency in hertz of second sine\n",
    "data_size = 160 * 8\n",
    "T = (data_size/baud_rate) #length in sec\n",
    "sample_per_bit = int(Fs/baud_rate)\n",
    "start_sequence = [+1, +1, +1, +1, +1, 0, 0, +1, +1, 0, +1, 0, +1]\n",
    "print(T)\n",
    "print(sample_per_bit)"
   ]
  },
  {
   "cell_type": "code",
   "execution_count": 4,
   "metadata": {},
   "outputs": [],
   "source": [
    "#append start/stop sequence to message :\n",
    "data = np.concatenate((start_sequence,data))\n",
    "data_size = len(data)\n",
    "#transform 0 to -1 in data \n",
    "data_tx = np.ones(len(data))\n",
    "data_tx[data==0] = -1"
   ]
  },
  {
   "cell_type": "code",
   "execution_count": 5,
   "metadata": {},
   "outputs": [],
   "source": [
    "#upsample data :\n",
    "data_tx = np.repeat(data_tx,sample_per_bit)\n",
    "#modulate carrier with data :\n",
    "tx_signal = np.sqrt(2) * np.sin(np.arange(0, len(data_tx)) * 2 *np.pi * (Fc/Fs)) * data_tx "
   ]
  },
  {
   "cell_type": "code",
   "execution_count": 6,
   "metadata": {},
   "outputs": [
    {
     "data": {
      "text/plain": [
       "<StemContainer object of 3 artists>"
      ]
     },
     "execution_count": 6,
     "metadata": {},
     "output_type": "execute_result"
    },
    {
     "data": {
      "image/png": "[encoded data removed]",
      "text/plain": [
       "<Figure size 432x288 with 1 Axes>"
      ]
     },
     "metadata": {
      "needs_background": "light"
     },
     "output_type": "display_data"
    }
   ],
   "source": [
    "#plot first samples of tx_signal\n",
    "plt.plot(tx_signal[100:300])\n",
    "plt.stem(data_tx[100:300],markerfmt = 'ro')"
   ]
  },
  {
   "cell_type": "code",
   "execution_count": 7,
   "metadata": {},
   "outputs": [],
   "source": [
    "tx_fft = np.abs(np.fft.fft(tx_signal))\n",
    "N = int(len(tx_fft)/2)\n",
    "#plt.plot(np.linspace(0,1,N) * (Fs/2), tx_fft[0:N]);"
   ]
  },
  {
   "cell_type": "code",
   "execution_count": 8,
   "metadata": {},
   "outputs": [],
   "source": [
    "#modulate signal on 2 orthogonals carriers\n",
    "carrier_1 = tx_signal * np.cos(np.arange(0,len(tx_signal)) * 2 * np.pi * (modulation_freq_1/Fs))\n",
    "carrier_2 = tx_signal * np.cos(np.arange(0,len(tx_signal)) * 2 * np.pi * (modulation_freq_2/Fs))\n",
    "tx_signal_modulated = carrier_1 + carrier_2"
   ]
  },
  {
   "cell_type": "code",
   "execution_count": 9,
   "metadata": {},
   "outputs": [],
   "source": [
    "tx_modulated_fft = np.abs(np.fft.fft(tx_signal_modulated))\n",
    "N = int(len(tx_fft)/2)\n",
    "#plt.plot(np.linspace(0,1,N) * (Fs/2), tx_modulated_fft[0:N]);"
   ]
  },
  {
   "cell_type": "code",
   "execution_count": 10,
   "metadata": {},
   "outputs": [],
   "source": [
    "rx_file = tx_signal_modulated.tofile(\"message.txt\",sep='\\n',format='%f')"
   ]
  },
  {
   "cell_type": "code",
   "execution_count": 11,
   "metadata": {},
   "outputs": [],
   "source": [
    "!python client.py --input_file=message.txt --output_file=received_message.txt --srv_hostname=iscsrv72.epfl.ch --srv_port=80"
   ]
  },
  {
   "cell_type": "markdown",
   "metadata": {},
   "source": [
    "# Channel"
   ]
  },
  {
   "cell_type": "code",
   "execution_count": 12,
   "metadata": {},
   "outputs": [],
   "source": [
    "# channel\n",
    "#frequency cut\n",
    "erase_indice = random.randint(1,4) #band to erase \n",
    "channel_signal = tx_signal_modulated\n",
    "channel_signal_fft = scipy.fftpack.fft(channel_signal)\n",
    "N = len(channel_signal_fft)\n",
    "erase_low_freq = (erase_indice * 2000 - 1000) * N  / (Fs)\n",
    "erase_high_freq = erase_low_freq + (2000 * N / (Fs))\n",
    "channel_signal_fft[int(erase_low_freq):int(erase_high_freq)] = 0\n",
    "channel_signal = scipy.fftpack.ifft(channel_signal_fft)\n",
    "\n",
    "#noise\n",
    "noise_length = 1100\n",
    "noise = noise = np.random.normal(0,0.05,len(tx_signal_modulated)+noise_length)\n",
    "#rx_signal = np.concatenate((np.zeros(noise_length),channel_signal)) + noise\n",
    "#rx_signal = channel_signal + noise"
   ]
  },
  {
   "cell_type": "code",
   "execution_count": 13,
   "metadata": {},
   "outputs": [],
   "source": [
    "#plt.plot(rx_signal)"
   ]
  },
  {
   "cell_type": "code",
   "execution_count": 14,
   "metadata": {},
   "outputs": [],
   "source": [
    "#N = int(len(rx_signal)/2)\n",
    "#rx_fft = np.abs(np.fft.fft(rx_signal))\n",
    "#plt.plot(np.linspace(0,1,N) * (Fs/2), rx_fft[0:N]);"
   ]
  },
  {
   "cell_type": "markdown",
   "metadata": {},
   "source": [
    "# Decoder"
   ]
  },
  {
   "cell_type": "code",
   "execution_count": 15,
   "metadata": {},
   "outputs": [],
   "source": [
    "start_sequence_bis = [+1, +1, +1, +1, +1, -1, -1, +1, +1, -1, +1, -1, +1]\n",
    "training_upsampled = np.repeat(start_sequence_bis,sample_per_bit)\n",
    "training_signal = np.sqrt(2) * np.sin(np.arange(0, len(training_upsampled)) * 2 *np.pi * sample_per_bit) * training_upsampled "
   ]
  },
  {
   "cell_type": "code",
   "execution_count": 16,
   "metadata": {},
   "outputs": [],
   "source": [
    "rx_signal = np.fromfile(\"received_message.txt\",sep='\\n',dtype='float')"
   ]
  },
  {
   "cell_type": "code",
   "execution_count": 17,
   "metadata": {},
   "outputs": [],
   "source": [
    "#lowpass filter\n",
    "def butter_lowpass(cutoff, fs, order=5):\n",
    "    nyq = 0.5 * fs\n",
    "    normal_cutoff = cutoff / nyq\n",
    "    b, a = sp.butter(order, normal_cutoff, btype='low', analog=False)\n",
    "    return b, a\n",
    "\n",
    "def butter_lowpass_filter(data, cutoff, fs, order=5):\n",
    "    b, a = butter_lowpass(cutoff, fs, order=order)\n",
    "    y = sp.filtfilt(b, a, data)\n",
    "    return y"
   ]
  },
  {
   "cell_type": "code",
   "execution_count": 18,
   "metadata": {},
   "outputs": [],
   "source": [
    "# demodulate both carriers\n",
    "rx_demod_carrier_1 = rx_signal * np.cos(2 * np.pi * (modulation_freq_1/Fs) * np.arange(0,len(rx_signal)))\n",
    "rx_demod_carrier_2 = rx_signal * np.cos(2 * np.pi * (modulation_freq_2/Fs) * np.arange(0,len(rx_signal)))\n",
    "#fft\n",
    "#rx_demod_carrier_1_fft = np.abs(np.fft.fft(rx_demod_carrier_1))\n",
    "#rx_demod_carrier_2_fft = np.abs(np.fft.fft(rx_demod_carrier_2))\n",
    "#N = int(len(rx_demod_carrier_1_fft))\n",
    "#plt.plot(np.linspace(0,1,N) * (Fs/2), rx_demod_carrier_1_fft[0:N]);\n",
    "#plt.figure()\n",
    "#plt.plot(np.linspace(0,1,N) * (Fs/2), rx_demod_carrier_2_fft[0:N]);"
   ]
  },
  {
   "cell_type": "code",
   "execution_count": 19,
   "metadata": {},
   "outputs": [
    {
     "name": "stderr",
     "output_type": "stream",
     "text": [
      "/Users/Valentin/anaconda3/lib/python3.7/site-packages/scipy/signal/_arraytools.py:45: FutureWarning: Using a non-tuple sequence for multidimensional indexing is deprecated; use `arr[tuple(seq)]` instead of `arr[seq]`. In the future this will be interpreted as an array index, `arr[np.array(seq)]`, which will result either in an error or a different result.\n",
      "  b = a[a_slice]\n"
     ]
    }
   ],
   "source": [
    "#filter both carriers\n",
    "rx_demod_carrier_1 = butter_lowpass_filter(rx_demod_carrier_1,Fc + 100, Fs, 5)\n",
    "rx_demod_carrier_2 = butter_lowpass_filter(rx_demod_carrier_2,Fc + 100, Fs, 5)"
   ]
  },
  {
   "cell_type": "code",
   "execution_count": 20,
   "metadata": {},
   "outputs": [],
   "source": [
    "rx_demod_carrier_1_fft = np.abs(np.fft.fft(rx_demod_carrier_1))\n",
    "rx_demod_carrier_2_fft = np.abs(np.fft.fft(rx_demod_carrier_2))\n",
    "N = int(len(rx_demod_carrier_1_fft))\n",
    "#plt.plot(np.linspace(0,1,N) * (Fs/2), rx_demod_carrier_1_fft[0:N]);\n",
    "#plt.figure()\n",
    "#plt.plot(np.linspace(0,1,N) * (Fs/2), rx_demod_carrier_2_fft[0:N]);"
   ]
  },
  {
   "cell_type": "code",
   "execution_count": 21,
   "metadata": {},
   "outputs": [],
   "source": [
    "#choose unaltered carrier\n",
    "if rx_demod_carrier_1_fft.sum() > rx_demod_carrier_2_fft.sum() :\n",
    "    rx_signal_demod = rx_demod_carrier_1\n",
    "else :\n",
    "    rx_signal_demod = rx_demod_carrier_2"
   ]
  },
  {
   "cell_type": "code",
   "execution_count": 22,
   "metadata": {},
   "outputs": [
    {
     "name": "stdout",
     "output_type": "stream",
     "text": [
      "13007\n",
      "12903\n"
     ]
    },
    {
     "name": "stderr",
     "output_type": "stream",
     "text": [
      "/Users/Valentin/anaconda3/lib/python3.7/site-packages/scipy/signal/signaltools.py:491: FutureWarning: Using a non-tuple sequence for multidimensional indexing is deprecated; use `arr[tuple(seq)]` instead of `arr[seq]`. In the future this will be interpreted as an array index, `arr[np.array(seq)]`, which will result either in an error or a different result.\n",
      "  return x[reverse].conj()\n"
     ]
    }
   ],
   "source": [
    "#samplinf offset synchronization\n",
    "init = int(np.argwhere(rx_signal_demod>0.2)[0]) \n",
    "print(init)\n",
    "corr = sp.correlate(rx_signal_demod[0:init + 1000],training_signal,mode='valid')\n",
    "shift = np.argmax(corr)\n",
    "print(shift) "
   ]
  },
  {
   "cell_type": "code",
   "execution_count": 23,
   "metadata": {},
   "outputs": [],
   "source": [
    "rx_signal_demod_shifted = rx_signal_demod[shift: (shift + data_size * sample_per_bit)]"
   ]
  },
  {
   "cell_type": "code",
   "execution_count": 24,
   "metadata": {},
   "outputs": [
    {
     "ename": "NameError",
     "evalue": "name 'pulse' is not defined",
     "output_type": "error",
     "traceback": [
      "\u001b[0;31m---------------------------------------------------------------------------\u001b[0m",
      "\u001b[0;31mNameError\u001b[0m                                 Traceback (most recent call last)",
      "\u001b[0;32m<ipython-input-24-b609260fe978>\u001b[0m in \u001b[0;36m<module>\u001b[0;34m\u001b[0m\n\u001b[1;32m      1\u001b[0m \u001b[0;31m#computer the inner product with the base signal to determine bit sent\u001b[0m\u001b[0;34m\u001b[0m\u001b[0;34m\u001b[0m\u001b[0;34m\u001b[0m\u001b[0m\n\u001b[0;32m----> 2\u001b[0;31m \u001b[0msignal_correlated\u001b[0m \u001b[0;34m=\u001b[0m \u001b[0mnp\u001b[0m\u001b[0;34m.\u001b[0m\u001b[0mcorrelate\u001b[0m\u001b[0;34m(\u001b[0m\u001b[0mrx_signal_demod_shifted\u001b[0m\u001b[0;34m,\u001b[0m\u001b[0mpulse\u001b[0m\u001b[0;34m,\u001b[0m \u001b[0mmode\u001b[0m\u001b[0;34m=\u001b[0m\u001b[0;34m'full'\u001b[0m\u001b[0;34m)\u001b[0m\u001b[0;34m\u001b[0m\u001b[0;34m\u001b[0m\u001b[0m\n\u001b[0m\u001b[1;32m      3\u001b[0m \u001b[0mlen\u001b[0m\u001b[0;34m(\u001b[0m\u001b[0msignal_correlated\u001b[0m\u001b[0;34m)\u001b[0m\u001b[0;34m\u001b[0m\u001b[0;34m\u001b[0m\u001b[0m\n\u001b[1;32m      4\u001b[0m \u001b[0;31m#plt.plot(rx_signal_demod_shifted[0:3000])\u001b[0m\u001b[0;34m\u001b[0m\u001b[0;34m\u001b[0m\u001b[0;34m\u001b[0m\u001b[0m\n",
      "\u001b[0;31mNameError\u001b[0m: name 'pulse' is not defined"
     ]
    }
   ],
   "source": [
    "#computer the inner product with the base signal to determine bit sent\n",
    "pulse = np.sqrt(2) * np.sin(np.arange(0, len(training_upsampled)) * 2 *np.pi * sample_per_bit)\n",
    "signal_correlated = np.correlate(rx_signal_demod_shifted,pulse, mode='full')\n",
    "len(signal_correlated)\n",
    "#plt.plot(rx_signal_demod_shifted[0:3000])"
   ]
  },
  {
   "cell_type": "code",
   "execution_count": 388,
   "metadata": {},
   "outputs": [],
   "source": [
    "matched_filter_output = signal_correlated[np.arange(1,data_size + 1) * sample_per_bit]\n",
    "if matched_filter_output[0] > 0 :\n",
    "    pass\n",
    "else : \n",
    "    window_offset = - int(sample_per_bit/2)\n",
    "    matched_filter_output = signal_correlated[np.arange(1,data_size + 1) * sample_per_bit + window_offset]\n",
    "received_data = np.zeros(data_size, int)\n",
    "received_data [matched_filter_output>0] = 1\n",
    "#print(data[0:20])\n",
    "#print(received_data[0:20])\n",
    "#print(data_size * sample_per_bit)"
   ]
  },
  {
   "cell_type": "code",
   "execution_count": 389,
   "metadata": {},
   "outputs": [],
   "source": [
    "#compute number of errors\n",
    "#err = abs(received_data - data).sum()\n",
    "#print(err)"
   ]
  },
  {
   "cell_type": "code",
   "execution_count": 390,
   "metadata": {},
   "outputs": [
    {
     "data": {
      "text/plain": [
       "\"Loul je comprends plus rien mais j'espère que ça marche pour de bon !!!! Même avec plus de caractères.... Ça a l air de fonctionner ! J espere que c est pas une fausse joie.. Ouah c'est un truc de ouff sa mere ca marche !\""
      ]
     },
     "execution_count": 390,
     "metadata": {},
     "output_type": "execute_result"
    }
   ],
   "source": [
    "#decode data\n",
    "decode = received_data[len(start_sequence):data_size]\n",
    "message = np.packbits(decode)\n",
    "message = str(message.tobytes(),\"utf-8\",\"ignore\")\n",
    "message"
   ]
  },
  {
   "cell_type": "code",
   "execution_count": 391,
   "metadata": {},
   "outputs": [
    {
     "data": {
      "image/png": "[encoded data removed]",
      "text/plain": [
       "<Figure size 1008x288 with 1 Axes>"
      ]
     },
     "metadata": {
      "needs_background": "light"
     },
     "output_type": "display_data"
    }
   ],
   "source": [
    "# Filter requirements.\n",
    "order = 10\n",
    "fs = Fs   # sample rate, Hz\n",
    "cutoff = Fc  # desired cutoff frequency of the filter, Hz\n",
    "\n",
    "# Get the filter coefficients so we can check its frequency response.\n",
    "b, a = butter_lowpass(cutoff, fs, order)\n",
    "\n",
    "# Plot the frequency response.\n",
    "w, h = sp.freqz(b, a, worN=8000)\n",
    "plt.subplot(2, 1, 1)\n",
    "plt.plot(0.5*fs*w/np.pi, np.abs(h), 'b')\n",
    "plt.plot(cutoff, 0.5*np.sqrt(2), 'ko')\n",
    "plt.axvline(cutoff, color='k')\n",
    "plt.xlim(0, 0.5*fs)\n",
    "plt.title(\"Lowpass Filter Frequency Response\")\n",
    "plt.xlabel('Frequency [Hz]')\n",
    "plt.grid()"
   ]
  },
  {
   "cell_type": "code",
   "execution_count": null,
   "metadata": {},
   "outputs": [],
   "source": []
  },
  {
   "cell_type": "code",
   "execution_count": null,
   "metadata": {},
   "outputs": [],
   "source": []
  },
  {
   "cell_type": "code",
   "execution_count": null,
   "metadata": {},
   "outputs": [],
   "source": []
  }
 ],
 "metadata": {
  "kernelspec": {
   "display_name": "Python 3",
   "language": "python",
   "name": "python3"
  },
  "language_info": {
   "codemirror_mode": {
    "name": "ipython",
    "version": 3
   },
   "file_extension": ".py",
   "mimetype": "text/x-python",
   "name": "python",
   "nbconvert_exporter": "python",
   "pygments_lexer": "ipython3",
   "version": "3.7.1"
  }
 },
 "nbformat": 4,
 "nbformat_minor": 2
}
